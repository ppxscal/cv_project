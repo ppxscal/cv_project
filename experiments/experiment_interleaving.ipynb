{
 "cells": [
  {
   "cell_type": "code",
   "execution_count": 3,
   "metadata": {},
   "outputs": [
    {
     "name": "stdout",
     "output_type": "stream",
     "text": [
      "Requirement already satisfied: pillow in /Users/Pascal/opt/anaconda3/envs/mit6300/lib/python3.12/site-packages (10.2.0)\n",
      "Requirement already satisfied: numpy in /Users/Pascal/opt/anaconda3/envs/mit6300/lib/python3.12/site-packages (1.26.4)\n",
      "Requirement already satisfied: torch in /Users/Pascal/opt/anaconda3/envs/mit6300/lib/python3.12/site-packages (2.2.2)\n",
      "Requirement already satisfied: opencv-python in /Users/Pascal/opt/anaconda3/envs/mit6300/lib/python3.12/site-packages (4.9.0.80)\n",
      "Requirement already satisfied: matplotlib in /Users/Pascal/opt/anaconda3/envs/mit6300/lib/python3.12/site-packages (3.8.4)\n",
      "Requirement already satisfied: seaborn in /Users/Pascal/opt/anaconda3/envs/mit6300/lib/python3.12/site-packages (0.13.2)\n",
      "Requirement already satisfied: torchvision in /Users/Pascal/opt/anaconda3/envs/mit6300/lib/python3.12/site-packages (0.17.2)\n",
      "Requirement already satisfied: tqdm in /Users/Pascal/opt/anaconda3/envs/mit6300/lib/python3.12/site-packages (4.66.2)\n",
      "Requirement already satisfied: scikit-learn in /Users/Pascal/opt/anaconda3/envs/mit6300/lib/python3.12/site-packages (1.4.2)\n",
      "Requirement already satisfied: umap-learn in /Users/Pascal/opt/anaconda3/envs/mit6300/lib/python3.12/site-packages (0.5.6)\n",
      "Requirement already satisfied: huggingface-hub in /Users/Pascal/opt/anaconda3/envs/mit6300/lib/python3.12/site-packages (0.23.0)\n",
      "Requirement already satisfied: git-lfs in /Users/Pascal/opt/anaconda3/envs/mit6300/lib/python3.12/site-packages (1.6)\n",
      "Requirement already satisfied: transformers in /Users/Pascal/opt/anaconda3/envs/mit6300/lib/python3.12/site-packages (4.40.1)\n",
      "Requirement already satisfied: timm in /Users/Pascal/opt/anaconda3/envs/mit6300/lib/python3.12/site-packages (0.9.16)\n",
      "Requirement already satisfied: einops in /Users/Pascal/opt/anaconda3/envs/mit6300/lib/python3.12/site-packages (0.8.0)\n",
      "Requirement already satisfied: filelock in /Users/Pascal/opt/anaconda3/envs/mit6300/lib/python3.12/site-packages (from torch) (3.14.0)\n",
      "Requirement already satisfied: typing-extensions>=4.8.0 in /Users/Pascal/opt/anaconda3/envs/mit6300/lib/python3.12/site-packages (from torch) (4.11.0)\n",
      "Requirement already satisfied: sympy in /Users/Pascal/opt/anaconda3/envs/mit6300/lib/python3.12/site-packages (from torch) (1.12)\n",
      "Requirement already satisfied: networkx in /Users/Pascal/opt/anaconda3/envs/mit6300/lib/python3.12/site-packages (from torch) (3.3)\n",
      "Requirement already satisfied: jinja2 in /Users/Pascal/opt/anaconda3/envs/mit6300/lib/python3.12/site-packages (from torch) (3.1.3)\n",
      "Requirement already satisfied: fsspec in /Users/Pascal/opt/anaconda3/envs/mit6300/lib/python3.12/site-packages (from torch) (2024.3.1)\n",
      "Requirement already satisfied: contourpy>=1.0.1 in /Users/Pascal/opt/anaconda3/envs/mit6300/lib/python3.12/site-packages (from matplotlib) (1.2.0)\n",
      "Requirement already satisfied: cycler>=0.10 in /Users/Pascal/opt/anaconda3/envs/mit6300/lib/python3.12/site-packages (from matplotlib) (0.12.1)\n",
      "Requirement already satisfied: fonttools>=4.22.0 in /Users/Pascal/opt/anaconda3/envs/mit6300/lib/python3.12/site-packages (from matplotlib) (4.50.0)\n",
      "Requirement already satisfied: kiwisolver>=1.3.1 in /Users/Pascal/opt/anaconda3/envs/mit6300/lib/python3.12/site-packages (from matplotlib) (1.4.5)\n",
      "Requirement already satisfied: packaging>=20.0 in /Users/Pascal/opt/anaconda3/envs/mit6300/lib/python3.12/site-packages (from matplotlib) (24.0)\n",
      "Requirement already satisfied: pyparsing>=2.3.1 in /Users/Pascal/opt/anaconda3/envs/mit6300/lib/python3.12/site-packages (from matplotlib) (3.1.2)\n",
      "Requirement already satisfied: python-dateutil>=2.7 in /Users/Pascal/opt/anaconda3/envs/mit6300/lib/python3.12/site-packages (from matplotlib) (2.9.0.post0)\n",
      "Requirement already satisfied: pandas>=1.2 in /Users/Pascal/opt/anaconda3/envs/mit6300/lib/python3.12/site-packages (from seaborn) (2.2.2)\n",
      "Requirement already satisfied: scipy>=1.6.0 in /Users/Pascal/opt/anaconda3/envs/mit6300/lib/python3.12/site-packages (from scikit-learn) (1.13.0)\n",
      "Requirement already satisfied: joblib>=1.2.0 in /Users/Pascal/opt/anaconda3/envs/mit6300/lib/python3.12/site-packages (from scikit-learn) (1.4.2)\n",
      "Requirement already satisfied: threadpoolctl>=2.0.0 in /Users/Pascal/opt/anaconda3/envs/mit6300/lib/python3.12/site-packages (from scikit-learn) (3.5.0)\n",
      "Requirement already satisfied: numba>=0.51.2 in /Users/Pascal/opt/anaconda3/envs/mit6300/lib/python3.12/site-packages (from umap-learn) (0.59.1)\n",
      "Requirement already satisfied: pynndescent>=0.5 in /Users/Pascal/opt/anaconda3/envs/mit6300/lib/python3.12/site-packages (from umap-learn) (0.5.12)\n",
      "Requirement already satisfied: pyyaml>=5.1 in /Users/Pascal/opt/anaconda3/envs/mit6300/lib/python3.12/site-packages (from huggingface-hub) (6.0.1)\n",
      "Requirement already satisfied: requests in /Users/Pascal/opt/anaconda3/envs/mit6300/lib/python3.12/site-packages (from huggingface-hub) (2.31.0)\n",
      "Requirement already satisfied: regex!=2019.12.17 in /Users/Pascal/opt/anaconda3/envs/mit6300/lib/python3.12/site-packages (from transformers) (2024.4.28)\n",
      "Requirement already satisfied: tokenizers<0.20,>=0.19 in /Users/Pascal/opt/anaconda3/envs/mit6300/lib/python3.12/site-packages (from transformers) (0.19.1)\n",
      "Requirement already satisfied: safetensors>=0.4.1 in /Users/Pascal/opt/anaconda3/envs/mit6300/lib/python3.12/site-packages (from transformers) (0.4.3)\n",
      "Requirement already satisfied: llvmlite<0.43,>=0.42.0dev0 in /Users/Pascal/opt/anaconda3/envs/mit6300/lib/python3.12/site-packages (from numba>=0.51.2->umap-learn) (0.42.0)\n",
      "Requirement already satisfied: pytz>=2020.1 in /Users/Pascal/opt/anaconda3/envs/mit6300/lib/python3.12/site-packages (from pandas>=1.2->seaborn) (2024.1)\n",
      "Requirement already satisfied: tzdata>=2022.7 in /Users/Pascal/opt/anaconda3/envs/mit6300/lib/python3.12/site-packages (from pandas>=1.2->seaborn) (2024.1)\n",
      "Requirement already satisfied: six>=1.5 in /Users/Pascal/opt/anaconda3/envs/mit6300/lib/python3.12/site-packages (from python-dateutil>=2.7->matplotlib) (1.16.0)\n",
      "Requirement already satisfied: MarkupSafe>=2.0 in /Users/Pascal/opt/anaconda3/envs/mit6300/lib/python3.12/site-packages (from jinja2->torch) (2.1.5)\n",
      "Requirement already satisfied: charset-normalizer<4,>=2 in /Users/Pascal/opt/anaconda3/envs/mit6300/lib/python3.12/site-packages (from requests->huggingface-hub) (3.3.2)\n",
      "Requirement already satisfied: idna<4,>=2.5 in /Users/Pascal/opt/anaconda3/envs/mit6300/lib/python3.12/site-packages (from requests->huggingface-hub) (3.6)\n",
      "Requirement already satisfied: urllib3<3,>=1.21.1 in /Users/Pascal/opt/anaconda3/envs/mit6300/lib/python3.12/site-packages (from requests->huggingface-hub) (2.2.1)\n",
      "Requirement already satisfied: certifi>=2017.4.17 in /Users/Pascal/opt/anaconda3/envs/mit6300/lib/python3.12/site-packages (from requests->huggingface-hub) (2024.2.2)\n",
      "Requirement already satisfied: mpmath>=0.19 in /Users/Pascal/opt/anaconda3/envs/mit6300/lib/python3.12/site-packages (from sympy->torch) (1.3.0)\n"
     ]
    }
   ],
   "source": [
    "!pip install pillow numpy torch opencv-python matplotlib seaborn torchvision tqdm scikit-learn umap-learn huggingface-hub git-lfs transformers timm einops"
   ]
  },
  {
   "cell_type": "code",
   "execution_count": 4,
   "metadata": {},
   "outputs": [],
   "source": [
    "import torch\n",
    "import cv2\n",
    "import os\n",
    "import torch\n",
    "from torchvision import transforms\n",
    "import matplotlib.pyplot as plt\n",
    "import torch\n",
    "from torch.utils.data import DataLoader, TensorDataset, WeightedRandomSampler\n",
    "from tqdm import tqdm\n",
    "import numpy as np\n",
    "from transformers import pipeline\n",
    "from huggingface_hub import hf_hub_url, cached_download\n",
    "from torch.nn import MultiheadAttention\n",
    "import torch\n",
    "import torch.nn as nn\n",
    "import torch.nn.functional as F\n",
    "import torch.optim as optim\n",
    "from torch.utils.data import DataLoader, TensorDataset, WeightedRandomSampler\n",
    "import numpy as np\n",
    "import umap\n",
    "import matplotlib.pyplot as plt\n",
    "import seaborn as sns\n",
    "from tqdm import tqdm\n",
    "from sklearn.model_selection import train_test_split\n",
    "from torch.nn import MultiheadAttention\n",
    "\n",
    "REPO_NAME = 'ppxscal/cv_project'\n",
    "X_FILE = 'X_tensor.pt'\n",
    "Y_FILE = 'y_tensor.pt'\n",
    "\n",
    "# Get the URL for each file\n",
    "x_url = hf_hub_url(REPO_NAME, X_FILE)\n",
    "y_url = hf_hub_url(REPO_NAME, Y_FILE)\n",
    "\n",
    "# Download the files and cache them locally\n",
    "x_cache = cached_download(x_url)\n",
    "y_cache = cached_download(y_url)\n",
    "\n",
    "# Load the tensors from the cached files\n",
    "X = torch.load(x_cache)\n",
    "y = torch.load(y_cache)"
   ]
  },
  {
   "cell_type": "code",
   "execution_count": 5,
   "metadata": {},
   "outputs": [
    {
     "name": "stderr",
     "output_type": "stream",
     "text": [
      "/var/folders/xl/r4___wpd4psfv7ckxk9gm2m00000gn/T/ipykernel_98346/132908969.py:7: UserWarning: To copy construct from a tensor, it is recommended to use sourceTensor.clone().detach() or sourceTensor.clone().detach().requires_grad_(True), rather than torch.tensor(sourceTensor).\n",
      "  X_fft = torch.fft.fft2(torch.tensor(X, dtype=torch.complex64), dim=(-2, -1))\n"
     ]
    }
   ],
   "source": [
    "import torch\n",
    "import torch.fft\n",
    "\n",
    "# Assuming X is loaded and has shape [8831, 128, 128]\n",
    "\n",
    "# Compute the Fourier transform\n",
    "X_fft = torch.fft.fft2(torch.tensor(X, dtype=torch.complex64), dim=(-2, -1))\n",
    "\n",
    "# Shift the zero-frequency component to the center\n",
    "X_fft_shifted = torch.fft.fftshift(X_fft, dim=(-2, -1))\n",
    "\n",
    "# Take the magnitude (you could also take the phase or real/imaginary parts depending on your need)\n",
    "X_fft_mag = X_fft_shifted.abs()\n",
    "\n",
    "# Normalize the magnitude for better visualization and learning stability\n",
    "X_fft_mag = (X_fft_mag - X_fft_mag.min()) / (X_fft_mag.max() - X_fft_mag.min())\n",
    "\n",
    "# Add a channel dimension to original and FFT images\n",
    "X_original = X.unsqueeze(1)  # Shape becomes [8831, 1, 128, 128]\n",
    "X_fft_mag = X_fft_mag.unsqueeze(1)  # Shape becomes [8831, 1, 128, 128]\n",
    "\n",
    "# Concatenate along the channel dimension\n",
    "X_combined = torch.cat((X_original, X_fft_mag), dim=1)  # Shape becomes [8831, 2, 128, 128]"
   ]
  },
  {
   "cell_type": "code",
   "execution_count": 13,
   "metadata": {},
   "outputs": [
    {
     "name": "stdout",
     "output_type": "stream",
     "text": [
      "Using device: mps\n",
      "X_train: torch.Size([5740, 2, 128, 128]) y_train: torch.Size([5740])\n"
     ]
    },
    {
     "name": "stderr",
     "output_type": "stream",
     "text": [
      "100%|██████████| 180/180 [00:11<00:00, 15.53it/s]\n"
     ]
    },
    {
     "name": "stdout",
     "output_type": "stream",
     "text": [
      "Epoch 1, Training Loss: 1.0297284480598239\n"
     ]
    },
    {
     "name": "stderr",
     "output_type": "stream",
     "text": [
      "100%|██████████| 97/97 [00:01<00:00, 50.86it/s]\n"
     ]
    },
    {
     "name": "stdout",
     "output_type": "stream",
     "text": [
      "Epoch 1, Validation Loss: 0.9534296135312503, Validation Accuracy: 52.05507325013564% \n",
      "\n"
     ]
    },
    {
     "name": "stderr",
     "output_type": "stream",
     "text": [
      "100%|██████████| 180/180 [00:10<00:00, 16.57it/s]\n"
     ]
    },
    {
     "name": "stdout",
     "output_type": "stream",
     "text": [
      "Epoch 2, Training Loss: 0.9407210701041752\n"
     ]
    },
    {
     "name": "stderr",
     "output_type": "stream",
     "text": [
      "100%|██████████| 97/97 [00:01<00:00, 63.45it/s]\n"
     ]
    },
    {
     "name": "stdout",
     "output_type": "stream",
     "text": [
      "Epoch 2, Validation Loss: 0.8970602799936668, Validation Accuracy: 58.230466630493765% \n",
      "\n"
     ]
    },
    {
     "name": "stderr",
     "output_type": "stream",
     "text": [
      "100%|██████████| 180/180 [00:14<00:00, 12.43it/s]\n"
     ]
    },
    {
     "name": "stdout",
     "output_type": "stream",
     "text": [
      "Epoch 3, Training Loss: 0.8570252597332001\n"
     ]
    },
    {
     "name": "stderr",
     "output_type": "stream",
     "text": [
      "100%|██████████| 97/97 [00:02<00:00, 37.65it/s]\n"
     ]
    },
    {
     "name": "stdout",
     "output_type": "stream",
     "text": [
      "Epoch 3, Validation Loss: 0.7950034282871128, Validation Accuracy: 64.02095767769941% \n",
      "\n"
     ]
    },
    {
     "name": "stderr",
     "output_type": "stream",
     "text": [
      "100%|██████████| 180/180 [00:12<00:00, 14.27it/s]\n"
     ]
    },
    {
     "name": "stdout",
     "output_type": "stream",
     "text": [
      "Epoch 4, Training Loss: 0.7415237847301696\n"
     ]
    },
    {
     "name": "stderr",
     "output_type": "stream",
     "text": [
      "100%|██████████| 97/97 [00:01<00:00, 59.46it/s]\n"
     ]
    },
    {
     "name": "stdout",
     "output_type": "stream",
     "text": [
      "Epoch 4, Validation Loss: 0.6871528564040194, Validation Accuracy: 67.83267769940315% \n",
      "\n"
     ]
    },
    {
     "name": "stderr",
     "output_type": "stream",
     "text": [
      "100%|██████████| 180/180 [00:11<00:00, 15.04it/s]\n"
     ]
    },
    {
     "name": "stdout",
     "output_type": "stream",
     "text": [
      "Epoch 5, Training Loss: 0.6104044010241826\n"
     ]
    },
    {
     "name": "stderr",
     "output_type": "stream",
     "text": [
      "100%|██████████| 97/97 [00:01<00:00, 57.28it/s]\n"
     ]
    },
    {
     "name": "stdout",
     "output_type": "stream",
     "text": [
      "Epoch 5, Validation Loss: 0.5696457904024222, Validation Accuracy: 76.45822029300054% \n",
      "\n"
     ]
    },
    {
     "name": "stderr",
     "output_type": "stream",
     "text": [
      "100%|██████████| 180/180 [00:12<00:00, 14.94it/s]\n"
     ]
    },
    {
     "name": "stdout",
     "output_type": "stream",
     "text": [
      "Epoch 6, Training Loss: 0.4256326023903158\n"
     ]
    },
    {
     "name": "stderr",
     "output_type": "stream",
     "text": [
      "100%|██████████| 97/97 [00:01<00:00, 55.30it/s]\n"
     ]
    },
    {
     "name": "stdout",
     "output_type": "stream",
     "text": [
      "Epoch 6, Validation Loss: 0.5378318564179018, Validation Accuracy: 76.37174443841563% \n",
      "\n"
     ]
    },
    {
     "name": "stderr",
     "output_type": "stream",
     "text": [
      "100%|██████████| 180/180 [00:11<00:00, 15.71it/s]\n"
     ]
    },
    {
     "name": "stdout",
     "output_type": "stream",
     "text": [
      "Epoch 7, Training Loss: 0.30034282116426364\n"
     ]
    },
    {
     "name": "stderr",
     "output_type": "stream",
     "text": [
      "100%|██████████| 97/97 [00:01<00:00, 57.03it/s]\n"
     ]
    },
    {
     "name": "stdout",
     "output_type": "stream",
     "text": [
      "Epoch 7, Validation Loss: 0.33527330416686757, Validation Accuracy: 87.63734400434076% \n",
      "\n"
     ]
    },
    {
     "name": "stderr",
     "output_type": "stream",
     "text": [
      "100%|██████████| 180/180 [00:11<00:00, 15.73it/s]\n"
     ]
    },
    {
     "name": "stdout",
     "output_type": "stream",
     "text": [
      "Epoch 8, Training Loss: 0.20664021513528294\n"
     ]
    },
    {
     "name": "stderr",
     "output_type": "stream",
     "text": [
      "100%|██████████| 97/97 [00:01<00:00, 58.93it/s]\n"
     ]
    },
    {
     "name": "stdout",
     "output_type": "stream",
     "text": [
      "Epoch 8, Validation Loss: 0.2833059919402771, Validation Accuracy: 90.36557243624526% \n",
      "\n"
     ]
    },
    {
     "name": "stderr",
     "output_type": "stream",
     "text": [
      "100%|██████████| 180/180 [00:12<00:00, 14.27it/s]\n"
     ]
    },
    {
     "name": "stdout",
     "output_type": "stream",
     "text": [
      "Epoch 9, Training Loss: 0.12043821271508932\n"
     ]
    },
    {
     "name": "stderr",
     "output_type": "stream",
     "text": [
      "100%|██████████| 97/97 [00:01<00:00, 58.85it/s]\n"
     ]
    },
    {
     "name": "stdout",
     "output_type": "stream",
     "text": [
      "Epoch 9, Validation Loss: 0.23322501179483748, Validation Accuracy: 92.34095225176344% \n",
      "\n"
     ]
    },
    {
     "name": "stderr",
     "output_type": "stream",
     "text": [
      "100%|██████████| 180/180 [00:11<00:00, 15.79it/s]\n"
     ]
    },
    {
     "name": "stdout",
     "output_type": "stream",
     "text": [
      "Epoch 10, Training Loss: 0.0764513675045843\n"
     ]
    },
    {
     "name": "stderr",
     "output_type": "stream",
     "text": [
      "100%|██████████| 97/97 [00:01<00:00, 60.13it/s]\n"
     ]
    },
    {
     "name": "stdout",
     "output_type": "stream",
     "text": [
      "Epoch 10, Validation Loss: 0.20817923052332452, Validation Accuracy: 93.56687466087901% \n",
      "\n"
     ]
    },
    {
     "name": "stderr",
     "output_type": "stream",
     "text": [
      "100%|██████████| 180/180 [00:10<00:00, 17.02it/s]\n"
     ]
    },
    {
     "name": "stdout",
     "output_type": "stream",
     "text": [
      "Epoch 11, Training Loss: 0.052220436239925526\n"
     ]
    },
    {
     "name": "stderr",
     "output_type": "stream",
     "text": [
      "100%|██████████| 97/97 [00:01<00:00, 53.79it/s]\n"
     ]
    },
    {
     "name": "stdout",
     "output_type": "stream",
     "text": [
      "Epoch 11, Validation Loss: 0.1668342304387197, Validation Accuracy: 94.91996744438416% \n",
      "\n"
     ]
    },
    {
     "name": "stderr",
     "output_type": "stream",
     "text": [
      "100%|██████████| 180/180 [00:10<00:00, 17.34it/s]\n"
     ]
    },
    {
     "name": "stdout",
     "output_type": "stream",
     "text": [
      "Epoch 12, Training Loss: 0.04102274446373081\n"
     ]
    },
    {
     "name": "stderr",
     "output_type": "stream",
     "text": [
      "100%|██████████| 97/97 [00:01<00:00, 62.28it/s]\n"
     ]
    },
    {
     "name": "stdout",
     "output_type": "stream",
     "text": [
      "Epoch 12, Validation Loss: 0.14405173721924885, Validation Accuracy: 95.3709983722192% \n",
      "\n"
     ]
    },
    {
     "name": "stderr",
     "output_type": "stream",
     "text": [
      "100%|██████████| 180/180 [00:10<00:00, 16.92it/s]\n"
     ]
    },
    {
     "name": "stdout",
     "output_type": "stream",
     "text": [
      "Epoch 13, Training Loss: 0.035396131948154004\n"
     ]
    },
    {
     "name": "stderr",
     "output_type": "stream",
     "text": [
      "100%|██████████| 97/97 [00:01<00:00, 55.51it/s]\n"
     ]
    },
    {
     "name": "stdout",
     "output_type": "stream",
     "text": [
      "Epoch 13, Validation Loss: 0.11623934616776395, Validation Accuracy: 97.01403960933261% \n",
      "\n"
     ]
    },
    {
     "name": "stderr",
     "output_type": "stream",
     "text": [
      "100%|██████████| 180/180 [00:11<00:00, 15.96it/s]\n"
     ]
    },
    {
     "name": "stdout",
     "output_type": "stream",
     "text": [
      "Epoch 14, Training Loss: 0.016647539065969694\n"
     ]
    },
    {
     "name": "stderr",
     "output_type": "stream",
     "text": [
      "100%|██████████| 97/97 [00:02<00:00, 44.43it/s]\n"
     ]
    },
    {
     "name": "stdout",
     "output_type": "stream",
     "text": [
      "Epoch 14, Validation Loss: 0.14761506368828572, Validation Accuracy: 96.52061855670104% \n",
      "\n"
     ]
    },
    {
     "name": "stderr",
     "output_type": "stream",
     "text": [
      "100%|██████████| 180/180 [00:10<00:00, 17.49it/s]\n"
     ]
    },
    {
     "name": "stdout",
     "output_type": "stream",
     "text": [
      "Epoch 15, Training Loss: 0.018487983371596784\n"
     ]
    },
    {
     "name": "stderr",
     "output_type": "stream",
     "text": [
      "100%|██████████| 97/97 [00:01<00:00, 50.06it/s]"
     ]
    },
    {
     "name": "stdout",
     "output_type": "stream",
     "text": [
      "Epoch 15, Validation Loss: 0.11639431291787895, Validation Accuracy: 97.14290558871406% \n",
      "\n"
     ]
    },
    {
     "name": "stderr",
     "output_type": "stream",
     "text": [
      "\n"
     ]
    }
   ],
   "source": [
    "import torch\n",
    "import torch.nn as nn\n",
    "import torch.nn.functional as F\n",
    "import torch.optim as optim\n",
    "\n",
    "class Model(nn.Module):\n",
    "    def __init__(self):\n",
    "        super(Model, self).__init__()\n",
    "        # Adjust the first convolutional layer to accept 2 channels\n",
    "        self.conv1 = nn.Conv2d(2, 16, kernel_size=3, padding=1)\n",
    "        self.conv2 = nn.Conv2d(16, 32, kernel_size=3, padding=1)\n",
    "        self.conv3 = nn.Conv2d(32, 64, kernel_size=3, padding=1)\n",
    "        self.pool = nn.MaxPool2d(2, 2)\n",
    "        # Adjust the size of the flattened layer accordingly if the input size changes\n",
    "        self.fc1 = nn.Linear(64 * 16 * 16, 128)\n",
    "        self.fc2 = nn.Linear(128, 4)  # Assuming 4 classes\n",
    "\n",
    "    def forward(self, x):\n",
    "        x = self.pool(F.relu(self.conv1(x)))\n",
    "        x = self.pool(F.relu(self.conv2(x)))\n",
    "        x = self.pool(F.relu(self.conv3(x)))\n",
    "        x = x.view(-1, 64 * 16 * 16)\n",
    "        x = F.relu(self.fc1(x))\n",
    "        x = self.fc2(x)\n",
    "        return x\n",
    "\n",
    "# Device configuration, optimizer, loss function, and training loop remain the same.\n",
    "    \n",
    "if torch.cuda.is_available():\n",
    "    device = torch.device(\"cuda\")\n",
    "elif torch.backends.mps.is_available():\n",
    "    device = torch.device(\"mps\")\n",
    "else:\n",
    "    device = torch.device(\"cpu\")  \n",
    "\n",
    "print(f'Using device: {device}')\n",
    "\n",
    "model = Model().to(device)\n",
    "criterion = nn.CrossEntropyLoss()\n",
    "optimizer = optim.AdamW(model.parameters(), lr=0.001)\n",
    "\n",
    "num_epochs = 15  # You can adjust this based on your specific needs\n",
    "\n",
    "from sklearn.model_selection import train_test_split\n",
    "\n",
    "# Split the data into training and validation sets\n",
    "X_train, X_val, y_train, y_val = train_test_split(X_combined, y, test_size=0.35, random_state=42)\n",
    "\n",
    "# Create DataLoaders for both training and validation sets\n",
    "print('X_train:', X_train.shape, 'y_train:', y_train.shape)\n",
    "train_dataset = TensorDataset(X_train, y_train)\n",
    "val_dataset = TensorDataset(X_val, y_val)\n",
    "train_loader = DataLoader(train_dataset, batch_size=32, shuffle=True)\n",
    "val_loader = DataLoader(val_dataset, batch_size=32, shuffle=False)\n",
    "\n",
    "\n",
    "def calculate_accuracy(outputs, labels):\n",
    "    _, predicted = torch.max(outputs.data, 1)\n",
    "    total = labels.size(0)\n",
    "    correct = (predicted == labels).sum().item()\n",
    "    return 100 * correct / total\n",
    "\n",
    "# Starting the training and validation process\n",
    "for epoch in range(num_epochs):\n",
    "    model.train()  # Set the model to training mode\n",
    "    running_loss = 0.0\n",
    "    for images, labels in tqdm(train_loader):  # Use train_loader for training\n",
    "        images = images.to(device)\n",
    "        labels = labels.to(device)\n",
    "        \n",
    "        optimizer.zero_grad()\n",
    "        outputs = model(images)\n",
    "        loss = criterion(outputs, labels)\n",
    "        loss.backward()\n",
    "        optimizer.step()\n",
    "        \n",
    "        running_loss += loss.item()\n",
    "    \n",
    "    print(f'Epoch {epoch + 1}, Training Loss: {running_loss / len(train_loader)}')\n",
    "    \n",
    "    # Validation phase\n",
    "    model.eval()  # Set the model to evaluation mode\n",
    "    val_running_loss = 0.0\n",
    "    val_accuracy = 0.0\n",
    "    with torch.no_grad():  # No gradient updates during validation\n",
    "        for images, labels in tqdm(val_loader):  # Use val_loader for validation\n",
    "            images = images.to(device)\n",
    "            labels = labels.to(device)\n",
    "            \n",
    "            outputs = model(images)\n",
    "            loss = criterion(outputs, labels)\n",
    "            val_running_loss += loss.item()\n",
    "            val_accuracy += calculate_accuracy(outputs, labels)\n",
    "    \n",
    "    avg_val_loss = val_running_loss / len(val_loader)\n",
    "    avg_val_accuracy = val_accuracy / len(val_loader)\n",
    "    print(f'Epoch {epoch + 1}, Validation Loss: {avg_val_loss}, Validation Accuracy: {avg_val_accuracy}% \\n')"
   ]
  },
  {
   "cell_type": "code",
   "execution_count": 15,
   "metadata": {},
   "outputs": [
    {
     "name": "stdout",
     "output_type": "stream",
     "text": [
      "8831 (8831, 4) (4,) 8831\n"
     ]
    },
    {
     "name": "stderr",
     "output_type": "stream",
     "text": [
      "/Users/Pascal/opt/anaconda3/envs/mit6300/lib/python3.12/site-packages/umap/umap_.py:1880: UserWarning: gradient function is not yet implemented for hamming distance metric; inverse_transform will be unavailable\n",
      "  warn(\n"
     ]
    },
    {
     "name": "stdout",
     "output_type": "stream",
     "text": [
      "(8831, 2)\n"
     ]
    },
    {
     "data": {
      "image/png": "[encoded data removed]",
      "text/plain": [
       "<Figure size 1000x800 with 1 Axes>"
      ]
     },
     "metadata": {},
     "output_type": "display_data"
    }
   ],
   "source": [
    "model.eval()\n",
    "embeddings = []\n",
    "labels_list = []\n",
    "\n",
    "class_counts = y.bincount()\n",
    "num_samples = y.size(0)\n",
    "class_weights = 1. / class_counts\n",
    "\n",
    "# Create a list of weights for each sample\n",
    "sample_weights = class_weights[y]\n",
    "\n",
    "# Set up the sampler\n",
    "sampler = WeightedRandomSampler(weights=sample_weights, num_samples=num_samples, replacement=True)\n",
    "\n",
    "# Create a dataset and a dataloader\n",
    "dataset = TensorDataset(X_combined, y)\n",
    "dataloader = DataLoader(dataset, batch_size=32, sampler=sampler)\n",
    "# dataloader = DataLoader(dataset, batch_size=32)\n",
    "# dataloader = train_loader\n",
    "with torch.no_grad():\n",
    "    for images, labels in dataloader:\n",
    "        images = images.to(device)\n",
    "        emb = model(images)\n",
    "        # print(F.softmax(emb, dim=0))\n",
    "        embeddings.append(emb.cpu().numpy())\n",
    "        labels_list.append(labels.cpu().numpy())\n",
    "\n",
    "# Concatenate all embeddings and labels\n",
    "embeddings = np.concatenate(embeddings, axis=0)\n",
    "labels_list = np.concatenate(labels_list, axis=0)\n",
    "\n",
    "import numpy as np\n",
    "import umap\n",
    "import matplotlib.pyplot as plt\n",
    "import matplotlib.colors as mcolors\n",
    "from matplotlib.colors import ListedColormap\n",
    "import matplotlib.patches as mpatches\n",
    "from matplotlib.cm import plasma  # Import plasma colormap\n",
    "\n",
    "labels_to_class = {\n",
    "0: \"Non Dementia\",\n",
    "1: \"Very Mild Dementia\",\n",
    "2: \"Mild Dementia\",\n",
    "3: \"Moderate Dementia\",\n",
    "}\n",
    "print(len(embeddings), embeddings.shape, embeddings[0].shape, len(labels_list))\n",
    "\n",
    "# Perform UMAP reduction\n",
    "reducer = umap.UMAP(n_neighbors=10, min_dist=0.15, n_components=2, metric='hamming')\n",
    "umap_embeddings = reducer.fit_transform(embeddings)\n",
    "print(umap_embeddings.shape)\n",
    "# umap_embeddings = umap_embeddings / np.linalg.norm(umap_embeddings, axis=1)\n",
    "cmap = plt.cm.viridis\n",
    "\n",
    "plt.figure(figsize=(10, 8))\n",
    "scatter = plt.scatter(umap_embeddings[:, 0], umap_embeddings[:, 1], c=labels_list, cmap=cmap, s=10, edgecolor='black', linewidth=0.1)\n",
    "# Create a legend\n",
    "legend_handles = [mpatches.Patch(color=cmap(i / (len(labels_to_class) - 1)), label=labels_to_class[i]) for i in labels_to_class]\n",
    "plt.legend(handles=legend_handles, title=\"Classes\")\n",
    "\n",
    "plt.title('MRI Image Embeddings Reduction using UMAP')\n",
    "plt.xlabel('UMAP Dimension 1')\n",
    "plt.ylabel('UMAP Dimension 2')\n",
    "plt.show()"
   ]
  }
 ],
 "metadata": {
  "kernelspec": {
   "display_name": "mit6300",
   "language": "python",
   "name": "python3"
  },
  "language_info": {
   "codemirror_mode": {
    "name": "ipython",
    "version": 3
   },
   "file_extension": ".py",
   "mimetype": "text/x-python",
   "name": "python",
   "nbconvert_exporter": "python",
   "pygments_lexer": "ipython3",
   "version": "3.12.2"
  }
 },
 "nbformat": 4,
 "nbformat_minor": 2
}
